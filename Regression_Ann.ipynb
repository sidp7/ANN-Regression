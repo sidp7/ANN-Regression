{
  "nbformat": 4,
  "nbformat_minor": 0,
  "metadata": {
    "colab": {
      "name": "Regression Ann",
      "provenance": [],
      "collapsed_sections": []
    },
    "kernelspec": {
      "name": "python3",
      "display_name": "Python 3"
    }
  },
  "cells": [
    {
      "cell_type": "markdown",
      "metadata": {
        "id": "Pk1cAW_w3Ndf"
      },
      "source": [
        "Importing Libraries"
      ]
    },
    {
      "cell_type": "code",
      "metadata": {
        "id": "CIgkmZmA21EI"
      },
      "source": [
        "import numpy as np\n",
        "import pandas as pd\n",
        "import tensorflow as tf\n"
      ],
      "execution_count": null,
      "outputs": []
    },
    {
      "cell_type": "markdown",
      "metadata": {
        "id": "TPX1HnUo3a49"
      },
      "source": [
        "Data Preprocessing"
      ]
    },
    {
      "cell_type": "code",
      "metadata": {
        "id": "so8z9c9G21NF"
      },
      "source": [
        "data = pd.read_excel('Folds5x2_pp.xlsx')"
      ],
      "execution_count": null,
      "outputs": []
    },
    {
      "cell_type": "code",
      "metadata": {
        "id": "VDuhT5SK21Vw"
      },
      "source": [
        "X = data.iloc[:,:-1].values\n",
        "y = data.iloc[:,-1].values"
      ],
      "execution_count": null,
      "outputs": []
    },
    {
      "cell_type": "code",
      "metadata": {
        "id": "Ee6-0fei21S2",
        "outputId": "b080a7dc-de5a-4b82-bb77-80988405000c",
        "colab": {
          "base_uri": "https://localhost:8080/",
          "height": 136
        }
      },
      "source": [
        "X"
      ],
      "execution_count": null,
      "outputs": [
        {
          "output_type": "execute_result",
          "data": {
            "text/plain": [
              "array([[  14.96,   41.76, 1024.07,   73.17],\n",
              "       [  25.18,   62.96, 1020.04,   59.08],\n",
              "       [   5.11,   39.4 , 1012.16,   92.14],\n",
              "       ...,\n",
              "       [  31.32,   74.33, 1012.92,   36.48],\n",
              "       [  24.48,   69.45, 1013.86,   62.39],\n",
              "       [  21.6 ,   62.52, 1017.23,   67.87]])"
            ]
          },
          "metadata": {
            "tags": []
          },
          "execution_count": 12
        }
      ]
    },
    {
      "cell_type": "code",
      "metadata": {
        "id": "RZl7U29h21Qd"
      },
      "source": [
        "from sklearn.model_selection import train_test_split\n",
        "X_train , X_test, y_train, y_test = train_test_split(X , y, test_size=0.25, random_state = 42)"
      ],
      "execution_count": null,
      "outputs": []
    },
    {
      "cell_type": "markdown",
      "metadata": {
        "id": "ha6R8IOIcus4"
      },
      "source": [
        "Building the Artificial Neural Network"
      ]
    },
    {
      "cell_type": "code",
      "metadata": {
        "id": "hW0jfFP_cq8v"
      },
      "source": [
        "ann = tf.keras.models.Sequential()"
      ],
      "execution_count": null,
      "outputs": []
    },
    {
      "cell_type": "markdown",
      "metadata": {
        "id": "jRFhdJzldNCe"
      },
      "source": [
        "Adding Input layer and First hidden layer "
      ]
    },
    {
      "cell_type": "code",
      "metadata": {
        "id": "6DpSVGtv21Le"
      },
      "source": [
        "ann.add(tf.keras.layers.Dense(units = 6 ,activation = 'relu'))"
      ],
      "execution_count": null,
      "outputs": []
    },
    {
      "cell_type": "markdown",
      "metadata": {
        "id": "B4C9EsUxHs3o"
      },
      "source": [
        "Adding Second Hidden layer\n"
      ]
    },
    {
      "cell_type": "code",
      "metadata": {
        "id": "_ua7s30H21In"
      },
      "source": [
        "ann.add(tf.keras.layers.Dense(units = 6 ,activation = 'relu'))"
      ],
      "execution_count": null,
      "outputs": []
    },
    {
      "cell_type": "markdown",
      "metadata": {
        "id": "kcHiBQnXHzt_"
      },
      "source": [
        "Adding the Output layer"
      ]
    },
    {
      "cell_type": "code",
      "metadata": {
        "id": "n2G3C7BY21Cl"
      },
      "source": [
        "ann.add(tf.keras.layers.Dense(units = 1 ))   # here the activation function will be none since it's a regression problem."
      ],
      "execution_count": null,
      "outputs": []
    },
    {
      "cell_type": "markdown",
      "metadata": {
        "id": "03LylKPQIF2A"
      },
      "source": [
        "Training the Artificial neural network"
      ]
    },
    {
      "cell_type": "code",
      "metadata": {
        "id": "WHShCofd20-9"
      },
      "source": [
        "ann.compile(optimizer='adam',loss = 'mean_squared_error')"
      ],
      "execution_count": null,
      "outputs": []
    },
    {
      "cell_type": "code",
      "metadata": {
        "id": "3jDeJRRTINGd",
        "outputId": "7020c403-6fdb-4c57-f1ed-c0dfdf3e31ec",
        "colab": {
          "base_uri": "https://localhost:8080/",
          "height": 1000
        }
      },
      "source": [
        "ann.fit(X_train, y_train, batch_size = 42, epochs = 110)"
      ],
      "execution_count": null,
      "outputs": [
        {
          "output_type": "stream",
          "text": [
            "Epoch 1/110\n",
            "171/171 [==============================] - 0s 810us/step - loss: 149260.6250\n",
            "Epoch 2/110\n",
            "171/171 [==============================] - 0s 776us/step - loss: 27394.3828\n",
            "Epoch 3/110\n",
            "171/171 [==============================] - 0s 819us/step - loss: 2038.4525\n",
            "Epoch 4/110\n",
            "171/171 [==============================] - 0s 782us/step - loss: 360.5794\n",
            "Epoch 5/110\n",
            "171/171 [==============================] - 0s 770us/step - loss: 327.4575\n",
            "Epoch 6/110\n",
            "171/171 [==============================] - 0s 799us/step - loss: 317.8619\n",
            "Epoch 7/110\n",
            "171/171 [==============================] - 0s 796us/step - loss: 305.7789\n",
            "Epoch 8/110\n",
            "171/171 [==============================] - 0s 808us/step - loss: 290.8767\n",
            "Epoch 9/110\n",
            "171/171 [==============================] - 0s 881us/step - loss: 273.7331\n",
            "Epoch 10/110\n",
            "171/171 [==============================] - 0s 820us/step - loss: 256.5425\n",
            "Epoch 11/110\n",
            "171/171 [==============================] - 0s 780us/step - loss: 240.6384\n",
            "Epoch 12/110\n",
            "171/171 [==============================] - 0s 794us/step - loss: 225.4699\n",
            "Epoch 13/110\n",
            "171/171 [==============================] - 0s 859us/step - loss: 209.7081\n",
            "Epoch 14/110\n",
            "171/171 [==============================] - 0s 821us/step - loss: 193.0504\n",
            "Epoch 15/110\n",
            "171/171 [==============================] - 0s 763us/step - loss: 175.6466\n",
            "Epoch 16/110\n",
            "171/171 [==============================] - 0s 818us/step - loss: 157.5145\n",
            "Epoch 17/110\n",
            "171/171 [==============================] - 0s 882us/step - loss: 139.2610\n",
            "Epoch 18/110\n",
            "171/171 [==============================] - 0s 864us/step - loss: 121.3692\n",
            "Epoch 19/110\n",
            "171/171 [==============================] - 0s 826us/step - loss: 104.9080\n",
            "Epoch 20/110\n",
            "171/171 [==============================] - 0s 845us/step - loss: 90.2579\n",
            "Epoch 21/110\n",
            "171/171 [==============================] - 0s 791us/step - loss: 78.2491\n",
            "Epoch 22/110\n",
            "171/171 [==============================] - 0s 772us/step - loss: 68.4957\n",
            "Epoch 23/110\n",
            "171/171 [==============================] - 0s 761us/step - loss: 61.1771\n",
            "Epoch 24/110\n",
            "171/171 [==============================] - 0s 754us/step - loss: 55.7016\n",
            "Epoch 25/110\n",
            "171/171 [==============================] - 0s 808us/step - loss: 51.5570\n",
            "Epoch 26/110\n",
            "171/171 [==============================] - 0s 783us/step - loss: 48.1833\n",
            "Epoch 27/110\n",
            "171/171 [==============================] - 0s 771us/step - loss: 45.5399\n",
            "Epoch 28/110\n",
            "171/171 [==============================] - 0s 795us/step - loss: 43.3801\n",
            "Epoch 29/110\n",
            "171/171 [==============================] - 0s 823us/step - loss: 41.6821\n",
            "Epoch 30/110\n",
            "171/171 [==============================] - 0s 782us/step - loss: 40.3316\n",
            "Epoch 31/110\n",
            "171/171 [==============================] - 0s 773us/step - loss: 39.0112\n",
            "Epoch 32/110\n",
            "171/171 [==============================] - 0s 799us/step - loss: 37.9189\n",
            "Epoch 33/110\n",
            "171/171 [==============================] - 0s 800us/step - loss: 36.9700\n",
            "Epoch 34/110\n",
            "171/171 [==============================] - 0s 782us/step - loss: 36.0243\n",
            "Epoch 35/110\n",
            "171/171 [==============================] - 0s 763us/step - loss: 35.4036\n",
            "Epoch 36/110\n",
            "171/171 [==============================] - 0s 782us/step - loss: 34.6515\n",
            "Epoch 37/110\n",
            "171/171 [==============================] - 0s 782us/step - loss: 33.9078\n",
            "Epoch 38/110\n",
            "171/171 [==============================] - 0s 755us/step - loss: 33.2592\n",
            "Epoch 39/110\n",
            "171/171 [==============================] - 0s 741us/step - loss: 32.9099\n",
            "Epoch 40/110\n",
            "171/171 [==============================] - 0s 749us/step - loss: 32.1115\n",
            "Epoch 41/110\n",
            "171/171 [==============================] - 0s 783us/step - loss: 31.8404\n",
            "Epoch 42/110\n",
            "171/171 [==============================] - 0s 775us/step - loss: 31.3194\n",
            "Epoch 43/110\n",
            "171/171 [==============================] - 0s 799us/step - loss: 30.5770\n",
            "Epoch 44/110\n",
            "171/171 [==============================] - 0s 753us/step - loss: 30.1869\n",
            "Epoch 45/110\n",
            "171/171 [==============================] - 0s 785us/step - loss: 29.6363\n",
            "Epoch 46/110\n",
            "171/171 [==============================] - 0s 768us/step - loss: 29.3031\n",
            "Epoch 47/110\n",
            "171/171 [==============================] - 0s 802us/step - loss: 28.8526\n",
            "Epoch 48/110\n",
            "171/171 [==============================] - 0s 781us/step - loss: 28.5225\n",
            "Epoch 49/110\n",
            "171/171 [==============================] - 0s 801us/step - loss: 28.1205\n",
            "Epoch 50/110\n",
            "171/171 [==============================] - 0s 795us/step - loss: 27.7556\n",
            "Epoch 51/110\n",
            "171/171 [==============================] - 0s 827us/step - loss: 27.7321\n",
            "Epoch 52/110\n",
            "171/171 [==============================] - 0s 812us/step - loss: 27.0429\n",
            "Epoch 53/110\n",
            "171/171 [==============================] - 0s 884us/step - loss: 26.9065\n",
            "Epoch 54/110\n",
            "171/171 [==============================] - 0s 771us/step - loss: 26.8308\n",
            "Epoch 55/110\n",
            "171/171 [==============================] - 0s 777us/step - loss: 26.2906\n",
            "Epoch 56/110\n",
            "171/171 [==============================] - 0s 796us/step - loss: 26.1132\n",
            "Epoch 57/110\n",
            "171/171 [==============================] - 0s 836us/step - loss: 25.7324\n",
            "Epoch 58/110\n",
            "171/171 [==============================] - 0s 926us/step - loss: 25.7612\n",
            "Epoch 59/110\n",
            "171/171 [==============================] - 0s 872us/step - loss: 25.4040\n",
            "Epoch 60/110\n",
            "171/171 [==============================] - 0s 882us/step - loss: 25.5474\n",
            "Epoch 61/110\n",
            "171/171 [==============================] - 0s 875us/step - loss: 25.1531\n",
            "Epoch 62/110\n",
            "171/171 [==============================] - 0s 786us/step - loss: 25.0197\n",
            "Epoch 63/110\n",
            "171/171 [==============================] - 0s 778us/step - loss: 24.9746\n",
            "Epoch 64/110\n",
            "171/171 [==============================] - 0s 793us/step - loss: 24.8102\n",
            "Epoch 65/110\n",
            "171/171 [==============================] - 0s 808us/step - loss: 24.7799\n",
            "Epoch 66/110\n",
            "171/171 [==============================] - 0s 805us/step - loss: 24.9203\n",
            "Epoch 67/110\n",
            "171/171 [==============================] - 0s 772us/step - loss: 24.6779\n",
            "Epoch 68/110\n",
            "171/171 [==============================] - 0s 766us/step - loss: 24.5537\n",
            "Epoch 69/110\n",
            "171/171 [==============================] - 0s 797us/step - loss: 24.2729\n",
            "Epoch 70/110\n",
            "171/171 [==============================] - 0s 783us/step - loss: 24.5017\n",
            "Epoch 71/110\n",
            "171/171 [==============================] - 0s 1ms/step - loss: 24.3414\n",
            "Epoch 72/110\n",
            "171/171 [==============================] - 0s 930us/step - loss: 24.2467\n",
            "Epoch 73/110\n",
            "171/171 [==============================] - 0s 840us/step - loss: 24.3937\n",
            "Epoch 74/110\n",
            "171/171 [==============================] - 0s 777us/step - loss: 24.1101\n",
            "Epoch 75/110\n",
            "171/171 [==============================] - 0s 783us/step - loss: 24.7614\n",
            "Epoch 76/110\n",
            "171/171 [==============================] - 0s 801us/step - loss: 24.2768\n",
            "Epoch 77/110\n",
            "171/171 [==============================] - 0s 812us/step - loss: 24.3489\n",
            "Epoch 78/110\n",
            "171/171 [==============================] - 0s 794us/step - loss: 23.9082\n",
            "Epoch 79/110\n",
            "171/171 [==============================] - 0s 764us/step - loss: 24.4413\n",
            "Epoch 80/110\n",
            "171/171 [==============================] - 0s 779us/step - loss: 24.1062\n",
            "Epoch 81/110\n",
            "171/171 [==============================] - 0s 783us/step - loss: 24.3422\n",
            "Epoch 82/110\n",
            "171/171 [==============================] - 0s 766us/step - loss: 24.0304\n",
            "Epoch 83/110\n",
            "171/171 [==============================] - 0s 768us/step - loss: 24.1348\n",
            "Epoch 84/110\n",
            "171/171 [==============================] - 0s 762us/step - loss: 24.3382\n",
            "Epoch 85/110\n",
            "171/171 [==============================] - 0s 785us/step - loss: 24.2459\n",
            "Epoch 86/110\n",
            "171/171 [==============================] - 0s 789us/step - loss: 23.9474\n",
            "Epoch 87/110\n",
            "171/171 [==============================] - 0s 761us/step - loss: 24.0557\n",
            "Epoch 88/110\n",
            "171/171 [==============================] - 0s 750us/step - loss: 24.0937\n",
            "Epoch 89/110\n",
            "171/171 [==============================] - 0s 764us/step - loss: 23.9806\n",
            "Epoch 90/110\n",
            "171/171 [==============================] - 0s 761us/step - loss: 23.9918\n",
            "Epoch 91/110\n",
            "171/171 [==============================] - 0s 802us/step - loss: 24.2192\n",
            "Epoch 92/110\n",
            "171/171 [==============================] - 0s 798us/step - loss: 24.0348\n",
            "Epoch 93/110\n",
            "171/171 [==============================] - 0s 797us/step - loss: 24.3832\n",
            "Epoch 94/110\n",
            "171/171 [==============================] - 0s 780us/step - loss: 24.1391\n",
            "Epoch 95/110\n",
            "171/171 [==============================] - 0s 826us/step - loss: 24.0528\n",
            "Epoch 96/110\n",
            "171/171 [==============================] - 0s 774us/step - loss: 24.0679\n",
            "Epoch 97/110\n",
            "171/171 [==============================] - 0s 772us/step - loss: 23.9064\n",
            "Epoch 98/110\n",
            "171/171 [==============================] - 0s 894us/step - loss: 23.7466\n",
            "Epoch 99/110\n",
            "171/171 [==============================] - 0s 764us/step - loss: 23.8096\n",
            "Epoch 100/110\n",
            "171/171 [==============================] - 0s 785us/step - loss: 23.9433\n",
            "Epoch 101/110\n",
            "171/171 [==============================] - 0s 774us/step - loss: 23.8485\n",
            "Epoch 102/110\n",
            "171/171 [==============================] - 0s 771us/step - loss: 24.0627\n",
            "Epoch 103/110\n",
            "171/171 [==============================] - 0s 765us/step - loss: 23.9412\n",
            "Epoch 104/110\n",
            "171/171 [==============================] - 0s 781us/step - loss: 23.9821\n",
            "Epoch 105/110\n",
            "171/171 [==============================] - 0s 766us/step - loss: 24.0396\n",
            "Epoch 106/110\n",
            "171/171 [==============================] - 0s 796us/step - loss: 23.7531\n",
            "Epoch 107/110\n",
            "171/171 [==============================] - 0s 839us/step - loss: 23.9311\n",
            "Epoch 108/110\n",
            "171/171 [==============================] - 0s 802us/step - loss: 23.8352\n",
            "Epoch 109/110\n",
            "171/171 [==============================] - 0s 833us/step - loss: 23.7464\n",
            "Epoch 110/110\n",
            "171/171 [==============================] - 0s 774us/step - loss: 23.8609\n"
          ],
          "name": "stdout"
        },
        {
          "output_type": "execute_result",
          "data": {
            "text/plain": [
              "<tensorflow.python.keras.callbacks.History at 0x7f4b58e32e80>"
            ]
          },
          "metadata": {
            "tags": []
          },
          "execution_count": 18
        }
      ]
    },
    {
      "cell_type": "markdown",
      "metadata": {
        "id": "14zl3G3sIrjg"
      },
      "source": [
        "Predicting the results on the test set"
      ]
    },
    {
      "cell_type": "code",
      "metadata": {
        "id": "-L8jVchaINMX",
        "outputId": "a64e3fa3-1dbc-4f08-ac66-7ab4cb0992d8",
        "colab": {
          "base_uri": "https://localhost:8080/",
          "height": 136
        }
      },
      "source": [
        "pred_val = ann.predict(X_test)\n",
        "np.set_printoptions(precision = 2)\n",
        "print(np.concatenate((pred_val.reshape(len(pred_val),1),y_test.reshape(len(y_test),1)),1))"
      ],
      "execution_count": null,
      "outputs": [
        {
          "output_type": "stream",
          "text": [
            "[[456.98 455.27]\n",
            " [438.01 436.31]\n",
            " [434.09 440.68]\n",
            " ...\n",
            " [462.   459.38]\n",
            " [471.49 475.24]\n",
            " [449.93 450.64]]\n"
          ],
          "name": "stdout"
        }
      ]
    }
  ]
}